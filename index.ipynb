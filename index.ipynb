{
 "cells": [
  {
   "cell_type": "markdown",
   "metadata": {},
   "source": [
    "# Project - EDA with Pandas Using the Boston Housing Data"
   ]
  },
  {
   "cell_type": "markdown",
   "metadata": {},
   "source": [
    "## Introduction\n",
    "\n",
    "In this section you've learned a lot about importing, cleaning up, analysing (using descriptive statistics) and visualizing data. In this more free form project you'll get a chance to practice all of these skills with the Boston Housing data set,  which contains housing values in suburbs of Boston. The Boston Housing Data is commonly used by aspiring data scientists.  "
   ]
  },
  {
   "cell_type": "markdown",
   "metadata": {},
   "source": [
    "## Objectives\n",
    "You will be able to:\n",
    "* Show mastery of the content covered in this section"
   ]
  },
  {
   "cell_type": "markdown",
   "metadata": {},
   "source": [
    "# Goals\n",
    "\n",
    "Use your data munging and visualization skills to conduct an exploratory analysis of the dataset below. At minimum, this should include:\n",
    "\n",
    "* Loading the data (which is stored in the file train.csv)\n",
    "* Use built-in python functions to explore measures of centrality and dispersion for at least 3 variables\n",
    "* Create *meaningful* subsets of the data using selection operations using `.loc`, `.iloc` or related operations. Explain why you used the chosen subsets and do this for 3 possible 2-way splits. State how you think the 2 measures of centrality and/or dispersion might be different for each subset of the data. Examples of potential splits:\n",
    "    - Create a 2 new dataframes based on your existing data, where one contains all the properties next to the Charles river, and the other one contains properties that aren't.\n",
    "    - Create 2 new datagrames based on a certain split for crime rate.\n",
    "* Next, use histograms and scatterplots to see whether you observe differences for the subsets of the data. Make sure to use subplots so it is easy to compare the relationships."
   ]
  },
  {
   "cell_type": "code",
   "execution_count": 171,
   "metadata": {},
   "outputs": [],
   "source": [
    "#import pandas and matplotlib.pyplot\n",
    "import pandas as pd\n",
    "import matplotlib.pyplot as plt\n"
   ]
  },
  {
   "cell_type": "code",
   "execution_count": 172,
   "metadata": {},
   "outputs": [],
   "source": [
    "#Load data \n",
    "df = pd.read_csv('train.csv')\n",
    "# df.head()"
   ]
  },
  {
   "cell_type": "code",
   "execution_count": 173,
   "metadata": {},
   "outputs": [
    {
     "name": "stdout",
     "output_type": "stream",
     "text": [
      "crime mean 3.360341471471471\n",
      "crime median 0.26169000000000003\n",
      "crime std 7.352271836781107\n",
      "crime max 73.5341\n",
      "crime min 0.00632\n"
     ]
    }
   ],
   "source": [
    "#explore measures of centrality and dispersion - variable 1 - crime\n",
    "crim_mean = df.crim.mean()\n",
    "crim_median = df.crim.median()\n",
    "crim_std = df.crim.std()\n",
    "crim_min = df.crim.min()\n",
    "crim_max = df.crim.max()\n",
    "print('crime mean ' + str(crim_mean))\n",
    "print('crime median ' + str(crim_median))\n",
    "print('crime std ' + str(crim_std))\n",
    "print('crime max ' + str(crim_max))\n",
    "print('crime min ' + str(crim_min))"
   ]
  },
  {
   "cell_type": "code",
   "execution_count": 174,
   "metadata": {},
   "outputs": [
    {
     "name": "stdout",
     "output_type": "stream",
     "text": [
      "age mean 68.22642642642643\n",
      "age median 76.7\n",
      "age std 28.13334360562339\n",
      "age max 100.0\n",
      "age min 6.0\n"
     ]
    }
   ],
   "source": [
    "#explore measures of centrality and dispersion - variable 2 - age\n",
    "age_mean = df.age.mean()\n",
    "age_median = df.age.median()\n",
    "age_std = df.age.std()\n",
    "age_min = df.age.min()\n",
    "age_max = df.age.max()\n",
    "print('age mean ' + str(age_mean))\n",
    "print('age median ' + str(age_median))\n",
    "print('age std ' + str(age_std))\n",
    "print('age max ' + str(age_max))\n",
    "print('age min ' + str(age_min))\n"
   ]
  },
  {
   "cell_type": "code",
   "execution_count": 175,
   "metadata": {},
   "outputs": [
    {
     "name": "stdout",
     "output_type": "stream",
     "text": [
      "lstat mean 12.515435435435437\n",
      "lstat median 10.97\n",
      "lstat std 7.067780803585785\n",
      "lstat max 37.97\n",
      "lstat min 1.73\n"
     ]
    }
   ],
   "source": [
    "#explore measures of centrality and dispersion - variable 3 - lower status of the population (lstat)\n",
    "lstat_mean = df.lstat.mean()\n",
    "lstat_median = df.lstat.median()\n",
    "lstat_std = df.lstat.std()\n",
    "lstat_min = df.lstat.min()\n",
    "lstat_max = df.lstat.max()\n",
    "print('lstat mean ' + str(lstat_mean))\n",
    "print('lstat median ' + str(lstat_median))\n",
    "print('lstat std ' + str(lstat_std))\n",
    "print('lstat max ' + str(lstat_max))\n",
    "print('lstat min ' + str(lstat_min))"
   ]
  },
  {
   "cell_type": "code",
   "execution_count": 176,
   "metadata": {},
   "outputs": [
    {
     "name": "stdout",
     "output_type": "stream",
     "text": [
      "bottom mean 0.0949751204819277\n",
      "top mean 6.6443743975903615\n",
      "bottom median 0.07885500000000001\n",
      "top median 3.6856649999999997\n"
     ]
    },
    {
     "data": {
      "text/html": [
       "<div>\n",
       "<style scoped>\n",
       "    .dataframe tbody tr th:only-of-type {\n",
       "        vertical-align: middle;\n",
       "    }\n",
       "\n",
       "    .dataframe tbody tr th {\n",
       "        vertical-align: top;\n",
       "    }\n",
       "\n",
       "    .dataframe thead th {\n",
       "        text-align: right;\n",
       "    }\n",
       "</style>\n",
       "<table border=\"1\" class=\"dataframe\">\n",
       "  <thead>\n",
       "    <tr style=\"text-align: right;\">\n",
       "      <th></th>\n",
       "      <th>crim</th>\n",
       "    </tr>\n",
       "  </thead>\n",
       "  <tbody>\n",
       "    <tr>\n",
       "      <th>271</th>\n",
       "      <td>73.5341</td>\n",
       "    </tr>\n",
       "    <tr>\n",
       "      <th>268</th>\n",
       "      <td>45.7461</td>\n",
       "    </tr>\n",
       "    <tr>\n",
       "      <th>261</th>\n",
       "      <td>38.3518</td>\n",
       "    </tr>\n",
       "    <tr>\n",
       "      <th>275</th>\n",
       "      <td>37.6619</td>\n",
       "    </tr>\n",
       "    <tr>\n",
       "      <th>267</th>\n",
       "      <td>28.6558</td>\n",
       "    </tr>\n",
       "  </tbody>\n",
       "</table>\n",
       "</div>"
      ],
      "text/plain": [
       "        crim\n",
       "271  73.5341\n",
       "268  45.7461\n",
       "261  38.3518\n",
       "275  37.6619\n",
       "267  28.6558"
      ]
     },
     "execution_count": 176,
     "metadata": {},
     "output_type": "execute_result"
    }
   ],
   "source": [
    "# Create meaningful subsets of the data, 1\n",
    "# I chose to split the data set top/bottom based upon crime to see if I could find any patterns\n",
    "# in their respective crime rates. \n",
    "# I chose the median(0.26) rather than the mean(3.36) \n",
    "# because it is obvious that the mean is being effected by outliers. \n",
    "# I think this is a meaning full split because in looking at the mean and median of the top and bottom \n",
    "# the bottom's numbers are stable, mean and median being relatively close, where in the top half, we have a \n",
    "# rather large (almost by half) difference between the mean and median.\n",
    "# I think this large discrepancy would warrant further investigation.  \n",
    "top_half_crim = df.loc[df['crim'] > df.crim.median(), ['crim']]\n",
    "sorted_top_half_crim = top_half_crim.sort_values('crim', ascending=False)\n",
    "bottom_half_crim =  df.loc[df['crim'] < df.crim.median(), ['crim']]\n",
    "sorted_bottom_half_crim = bottom_half_crim.sort_values('crim', ascending=True)\n",
    "print('bottom mean ' + str(sorted_bottom_half_crim['crim'].mean()))\n",
    "print('top mean ' + str(sorted_top_half_crim['crim'].mean()))\n",
    "print('bottom median ' + str(sorted_bottom_half_crim['crim'].median()))\n",
    "print('top median ' + str(sorted_top_half_crim['crim'].median()))\n",
    "sorted_top_half_crim.head()\n"
   ]
  },
  {
   "cell_type": "code",
   "execution_count": 198,
   "metadata": {},
   "outputs": [
    {
     "name": "stdout",
     "output_type": "stream",
     "text": [
      "new house area cost mean 28.07\n",
      "new house area cost median 25.2\n",
      "old house area cost mean 22.19\n",
      "old house area cost median 20.55\n"
     ]
    },
    {
     "data": {
      "text/html": [
       "<div>\n",
       "<style scoped>\n",
       "    .dataframe tbody tr th:only-of-type {\n",
       "        vertical-align: middle;\n",
       "    }\n",
       "\n",
       "    .dataframe tbody tr th {\n",
       "        vertical-align: top;\n",
       "    }\n",
       "\n",
       "    .dataframe thead th {\n",
       "        text-align: right;\n",
       "    }\n",
       "</style>\n",
       "<table border=\"1\" class=\"dataframe\">\n",
       "  <thead>\n",
       "    <tr style=\"text-align: right;\">\n",
       "      <th></th>\n",
       "      <th>ID</th>\n",
       "      <th>crim</th>\n",
       "      <th>zn</th>\n",
       "      <th>indus</th>\n",
       "      <th>chas</th>\n",
       "      <th>nox</th>\n",
       "      <th>rm</th>\n",
       "      <th>age</th>\n",
       "      <th>dis</th>\n",
       "      <th>rad</th>\n",
       "      <th>tax</th>\n",
       "      <th>ptratio</th>\n",
       "      <th>black</th>\n",
       "      <th>lstat</th>\n",
       "      <th>medv</th>\n",
       "    </tr>\n",
       "  </thead>\n",
       "  <tbody>\n",
       "    <tr>\n",
       "      <th>0</th>\n",
       "      <td>1</td>\n",
       "      <td>0.00632</td>\n",
       "      <td>18.0</td>\n",
       "      <td>2.31</td>\n",
       "      <td>0</td>\n",
       "      <td>0.538</td>\n",
       "      <td>6.575</td>\n",
       "      <td>65.2</td>\n",
       "      <td>4.0900</td>\n",
       "      <td>1</td>\n",
       "      <td>296</td>\n",
       "      <td>15.3</td>\n",
       "      <td>396.90</td>\n",
       "      <td>4.98</td>\n",
       "      <td>24.0</td>\n",
       "    </tr>\n",
       "    <tr>\n",
       "      <th>1</th>\n",
       "      <td>2</td>\n",
       "      <td>0.02731</td>\n",
       "      <td>0.0</td>\n",
       "      <td>7.07</td>\n",
       "      <td>0</td>\n",
       "      <td>0.469</td>\n",
       "      <td>6.421</td>\n",
       "      <td>78.9</td>\n",
       "      <td>4.9671</td>\n",
       "      <td>2</td>\n",
       "      <td>242</td>\n",
       "      <td>17.8</td>\n",
       "      <td>396.90</td>\n",
       "      <td>9.14</td>\n",
       "      <td>21.6</td>\n",
       "    </tr>\n",
       "    <tr>\n",
       "      <th>2</th>\n",
       "      <td>4</td>\n",
       "      <td>0.03237</td>\n",
       "      <td>0.0</td>\n",
       "      <td>2.18</td>\n",
       "      <td>0</td>\n",
       "      <td>0.458</td>\n",
       "      <td>6.998</td>\n",
       "      <td>45.8</td>\n",
       "      <td>6.0622</td>\n",
       "      <td>3</td>\n",
       "      <td>222</td>\n",
       "      <td>18.7</td>\n",
       "      <td>394.63</td>\n",
       "      <td>2.94</td>\n",
       "      <td>33.4</td>\n",
       "    </tr>\n",
       "    <tr>\n",
       "      <th>3</th>\n",
       "      <td>5</td>\n",
       "      <td>0.06905</td>\n",
       "      <td>0.0</td>\n",
       "      <td>2.18</td>\n",
       "      <td>0</td>\n",
       "      <td>0.458</td>\n",
       "      <td>7.147</td>\n",
       "      <td>54.2</td>\n",
       "      <td>6.0622</td>\n",
       "      <td>3</td>\n",
       "      <td>222</td>\n",
       "      <td>18.7</td>\n",
       "      <td>396.90</td>\n",
       "      <td>5.33</td>\n",
       "      <td>36.2</td>\n",
       "    </tr>\n",
       "    <tr>\n",
       "      <th>4</th>\n",
       "      <td>7</td>\n",
       "      <td>0.08829</td>\n",
       "      <td>12.5</td>\n",
       "      <td>7.87</td>\n",
       "      <td>0</td>\n",
       "      <td>0.524</td>\n",
       "      <td>6.012</td>\n",
       "      <td>66.6</td>\n",
       "      <td>5.5605</td>\n",
       "      <td>5</td>\n",
       "      <td>311</td>\n",
       "      <td>15.2</td>\n",
       "      <td>395.60</td>\n",
       "      <td>12.43</td>\n",
       "      <td>22.9</td>\n",
       "    </tr>\n",
       "  </tbody>\n",
       "</table>\n",
       "</div>"
      ],
      "text/plain": [
       "   ID     crim    zn  indus  chas    nox     rm   age     dis  rad  tax  \\\n",
       "0   1  0.00632  18.0   2.31     0  0.538  6.575  65.2  4.0900    1  296   \n",
       "1   2  0.02731   0.0   7.07     0  0.469  6.421  78.9  4.9671    2  242   \n",
       "2   4  0.03237   0.0   2.18     0  0.458  6.998  45.8  6.0622    3  222   \n",
       "3   5  0.06905   0.0   2.18     0  0.458  7.147  54.2  6.0622    3  222   \n",
       "4   7  0.08829  12.5   7.87     0  0.524  6.012  66.6  5.5605    5  311   \n",
       "\n",
       "   ptratio   black  lstat  medv  \n",
       "0     15.3  396.90   4.98  24.0  \n",
       "1     17.8  396.90   9.14  21.6  \n",
       "2     18.7  394.63   2.94  33.4  \n",
       "3     18.7  396.90   5.33  36.2  \n",
       "4     15.2  395.60  12.43  22.9  "
      ]
     },
     "execution_count": 198,
     "metadata": {},
     "output_type": "execute_result"
    }
   ],
   "source": [
    "# Create meaningful subsets of the data, 2\n",
    "# Here I split the data frame in to areas were less than 25% of the houses were built\n",
    "# before 1940 and areas were more than 25% of the houses where built after 1940, and looked\n",
    "# at the mean and median house value. I was expecting a large difference between the but found that\n",
    "# though the mean and median house value was higher in the new areas, not as much as I expected. \n",
    "new_house_cost = df.loc[df['age'] < 25, ['medv']]\n",
    "old_house_cost = df.loc[df['age'] > 25, ['medv']]\n",
    "print('new house area cost mean ' + str(round(new_houses_cost['medv'].mean(), 2)))\n",
    "print('new house area cost median ' + str(round(new_houses_cost['medv'].median(), 2)))\n",
    "print('old house area cost mean ' + str(round(old_houses_cost['medv'].mean(), 2)))\n",
    "print('old house area cost median ' + str(old_houses_cost['medv'].median()))\n",
    "\n",
    "df.head()"
   ]
  },
  {
   "cell_type": "code",
   "execution_count": 199,
   "metadata": {},
   "outputs": [
    {
     "name": "stdout",
     "output_type": "stream",
     "text": [
      "large plot house value mean 22.2\n",
      "large plot house value median 20.75\n",
      "small plot house value 29.24\n",
      "small plot house value 28.5\n"
     ]
    }
   ],
   "source": [
    "#Create meaningful subsets of the data, 3\n",
    "# Here I split the data set into two subsets by percentage of residential land zoned for lots over 25,000ft, and \n",
    "# and looked at the mean and median house values. I was surprised to see that the small plot group had houses values\n",
    "# significantly higher than the large plot group. \n",
    "large_plot_house_value = df.loc[df['zn'] < 50, ['medv']]\n",
    "small_plot_house_value = df.loc[df['zn'] > 50, ['medv']]\n",
    "print('large plot house value mean ' + str(round(large_plot_house_value['medv'].mean(), 2)))\n",
    "print('large plot house value median ' + str(round(large_plot_house_value['medv'].median(), 2)))\n",
    "print('small plot house value ' + str(round(small_plot_house_value['medv'].mean(), 2)))\n",
    "print('small plot house value ' + str(round(small_plot_house_value['medv'].median(), 2)))\n"
   ]
  },
  {
   "cell_type": "code",
   "execution_count": 193,
   "metadata": {},
   "outputs": [
    {
     "data": {
      "text/plain": [
       "Text(0.5,1,'Crime rates by town bottom half')"
      ]
     },
     "execution_count": 193,
     "metadata": {},
     "output_type": "execute_result"
    },
    {
     "data": {
      "image/png": "[encoded data removed]",
      "text/plain": [
       "<Figure size 720x288 with 2 Axes>"
      ]
     },
     "metadata": {
      "needs_background": "light"
     },
     "output_type": "display_data"
    }
   ],
   "source": [
    "# use histograms and scatterplots to see whether you observe differences for the subsets of the data - 1\n",
    "# I know these plots are wrong, especially the x and y ticks, but after many hours I just don't know how to fix them.\n",
    "new_figure = plt.figure(figsize=(10, 4))\n",
    "ax = new_figure.add_subplot(121)\n",
    "ax1 = new_figure.add_subplot(122)\n",
    "\n",
    "ax.hist(top_half_crim['crim'])\n",
    "ax1.hist(bottom_half_crim['crim'])\n",
    "\n",
    "ax.set_ylabel('comparative crime rates')\n",
    "ax.set_xlabel('Towns')\n",
    "ax.set_title('Crime rates by town top half')\n",
    "\n",
    "ax1.set_ylabel('comparative crime rates')\n",
    "ax1.set_xlabel('Towns')\n",
    "ax1.set_title('Crime rates by town bottom half')\n",
    "\n",
    "\n",
    "\n",
    "\n",
    "\n"
   ]
  },
  {
   "cell_type": "code",
   "execution_count": 202,
   "metadata": {},
   "outputs": [
    {
     "data": {
      "text/plain": [
       "Text(0.5,1,'comparative house values by age of area')"
      ]
     },
     "execution_count": 202,
     "metadata": {},
     "output_type": "execute_result"
    },
    {
     "data": {
      "image/png": "[encoded data removed]",
      "text/plain": [
       "<Figure size 720x288 with 2 Axes>"
      ]
     },
     "metadata": {
      "needs_background": "light"
     },
     "output_type": "display_data"
    }
   ],
   "source": [
    "# use histograms and scatterplots to see whether you observe differences for the subsets of the data - 2\n",
    "# again my ticks are off, just don't know how to fix them\n",
    "new_figure = plt.figure(figsize=(10, 4))\n",
    "ax = new_figure.add_subplot(121)\n",
    "ax1 = new_figure.add_subplot(122)\n",
    "\n",
    "ax.hist(new_house_cost['medv'])\n",
    "ax1.hist(old_house_cost['medv'])\n",
    "\n",
    "\n",
    "ax.set_ylabel('house values')\n",
    "ax.set_xlabel('newer areas')\n",
    "ax.set_title('comparative house values by age of area')\n",
    "\n",
    "ax1.set_ylabel('house values')\n",
    "ax1.set_xlabel('older areas')\n",
    "ax1.set_title('comparative house values by age of area')"
   ]
  },
  {
   "cell_type": "code",
   "execution_count": 204,
   "metadata": {},
   "outputs": [
    {
     "data": {
      "text/plain": [
       "Text(0.5,1,'comparative house values by plot zoning')"
      ]
     },
     "execution_count": 204,
     "metadata": {},
     "output_type": "execute_result"
    },
    {
     "data": {
      "image/png": "[encoded data removed]",
      "text/plain": [
       "<Figure size 720x288 with 2 Axes>"
      ]
     },
     "metadata": {
      "needs_background": "light"
     },
     "output_type": "display_data"
    }
   ],
   "source": [
    "# use histograms and scatterplots to see whether you observe differences for the subsets of the data - 2\n",
    "# ticks are off\n",
    "\n",
    "new_figure = plt.figure(figsize=(10, 4))\n",
    "ax = new_figure.add_subplot(121)\n",
    "ax1 = new_figure.add_subplot(122)\n",
    "\n",
    "ax.hist(large_plot_house_value['medv'])\n",
    "ax1.hist(small_plot_house_value['medv'])\n",
    "\n",
    "ax.set_ylabel('house values')\n",
    "ax.set_xlabel('zoned for larger plots')\n",
    "ax.set_title('comparative house values by plot zoning')\n",
    "\n",
    "ax1.set_ylabel('house values')\n",
    "ax1.set_xlabel('zoned for smaller plots')\n",
    "ax1.set_title('comparative house values by plot zoning')\n"
   ]
  },
  {
   "cell_type": "markdown",
   "metadata": {},
   "source": [
    "# Variable Descriptions\n",
    "\n",
    "This data frame contains the following columns:\n",
    "\n",
    "#### crim  \n",
    "per capita crime rate by town.\n",
    "\n",
    "#### zn  \n",
    "proportion of residential land zoned for lots over 25,000 sq.ft.\n",
    "\n",
    "#### indus  \n",
    "proportion of non-retail business acres per town.\n",
    "\n",
    "#### chas  \n",
    "Charles River dummy variable (= 1 if tract bounds river; 0 otherwise).\n",
    "\n",
    "#### nox  \n",
    "nitrogen oxides concentration (parts per 10 million).\n",
    "\n",
    "#### rm  \n",
    "average number of rooms per dwelling.\n",
    "\n",
    "#### age  \n",
    "proportion of owner-occupied units built prior to 1940.\n",
    "\n",
    "#### dis  \n",
    "weighted mean of distances to five Boston employment centres.\n",
    "\n",
    "#### rad  \n",
    "index of accessibility to radial highways.\n",
    "\n",
    "#### tax  \n",
    "full-value property-tax rate per $10,000.\n",
    "\n",
    "#### ptratio  \n",
    "pupil-teacher ratio by town.\n",
    "\n",
    "#### black  \n",
    "1000(Bk - 0.63)^2 where Bk is the proportion of blacks by town.\n",
    "\n",
    "#### lstat  \n",
    "lower status of the population (percent).\n",
    "\n",
    "#### medv  \n",
    "median value of owner-occupied homes in $10000s.\n",
    "  \n",
    "  \n",
    "  \n",
    "Source\n",
    "Harrison, D. and Rubinfeld, D.L. (1978) Hedonic prices and the demand for clean air. J. Environ. Economics and Management 5, 81–102.\n",
    "\n",
    "Belsley D.A., Kuh, E. and Welsch, R.E. (1980) Regression Diagnostics. Identifying Influential Data and Sources of Collinearity. New York: Wiley."
   ]
  },
  {
   "cell_type": "markdown",
   "metadata": {},
   "source": [
    "## Summary\n",
    "\n",
    "Congratulations, you've completed your first \"freeform\" exploratory data analysis of a popular data set!"
   ]
  }
 ],
 "metadata": {
  "kernelspec": {
   "display_name": "learn-env",
   "language": "python",
   "name": "learn-env"
  },
  "language_info": {
   "codemirror_mode": {
    "name": "ipython",
    "version": 3
   },
   "file_extension": ".py",
   "mimetype": "text/x-python",
   "name": "python",
   "nbconvert_exporter": "python",
   "pygments_lexer": "ipython3",
   "version": "3.6.6"
  }
 },
 "nbformat": 4,
 "nbformat_minor": 2
}
